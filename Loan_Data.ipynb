{
 "cells": [
  {
   "cell_type": "code",
   "execution_count": 1,
   "id": "261306a0",
   "metadata": {},
   "outputs": [],
   "source": [
    "import numpy as np\n",
    "import pandas as pd\n",
    "import matplotlib.pyplot as plt"
   ]
  },
  {
   "cell_type": "code",
   "execution_count": 2,
   "id": "9fb6645d",
   "metadata": {},
   "outputs": [],
   "source": [
    "df = pd.read_csv('Data_Analyst_Assignment_Dataset.csv')"
   ]
  },
  {
   "cell_type": "code",
   "execution_count": 3,
   "id": "363c576c",
   "metadata": {},
   "outputs": [
    {
     "data": {
      "text/html": [
       "<div>\n",
       "<style scoped>\n",
       "    .dataframe tbody tr th:only-of-type {\n",
       "        vertical-align: middle;\n",
       "    }\n",
       "\n",
       "    .dataframe tbody tr th {\n",
       "        vertical-align: top;\n",
       "    }\n",
       "\n",
       "    .dataframe thead th {\n",
       "        text-align: right;\n",
       "    }\n",
       "</style>\n",
       "<table border=\"1\" class=\"dataframe\">\n",
       "  <thead>\n",
       "    <tr style=\"text-align: right;\">\n",
       "      <th></th>\n",
       "      <th>Amount Pending</th>\n",
       "      <th>State</th>\n",
       "      <th>Tenure</th>\n",
       "      <th>Interest Rate</th>\n",
       "      <th>City</th>\n",
       "      <th>Bounce String</th>\n",
       "      <th>Disbursed Amount</th>\n",
       "      <th>Loan Number</th>\n",
       "    </tr>\n",
       "  </thead>\n",
       "  <tbody>\n",
       "    <tr>\n",
       "      <th>0</th>\n",
       "      <td>963</td>\n",
       "      <td>Karnataka</td>\n",
       "      <td>11</td>\n",
       "      <td>7.69</td>\n",
       "      <td>Bangalore</td>\n",
       "      <td>SSS</td>\n",
       "      <td>10197</td>\n",
       "      <td>JZ6FS</td>\n",
       "    </tr>\n",
       "    <tr>\n",
       "      <th>1</th>\n",
       "      <td>1194</td>\n",
       "      <td>Karnataka</td>\n",
       "      <td>11</td>\n",
       "      <td>6.16</td>\n",
       "      <td>Bangalore</td>\n",
       "      <td>SSB</td>\n",
       "      <td>12738</td>\n",
       "      <td>RDIOY</td>\n",
       "    </tr>\n",
       "    <tr>\n",
       "      <th>2</th>\n",
       "      <td>1807</td>\n",
       "      <td>Karnataka</td>\n",
       "      <td>14</td>\n",
       "      <td>4.24</td>\n",
       "      <td>Hassan</td>\n",
       "      <td>BBS</td>\n",
       "      <td>24640</td>\n",
       "      <td>WNW4L</td>\n",
       "    </tr>\n",
       "    <tr>\n",
       "      <th>3</th>\n",
       "      <td>2451</td>\n",
       "      <td>Karnataka</td>\n",
       "      <td>10</td>\n",
       "      <td>4.70</td>\n",
       "      <td>Bangalore</td>\n",
       "      <td>SSS</td>\n",
       "      <td>23990</td>\n",
       "      <td>6LBJS</td>\n",
       "    </tr>\n",
       "    <tr>\n",
       "      <th>4</th>\n",
       "      <td>2611</td>\n",
       "      <td>Karnataka</td>\n",
       "      <td>10</td>\n",
       "      <td>4.41</td>\n",
       "      <td>Mysore</td>\n",
       "      <td>SSB</td>\n",
       "      <td>25590</td>\n",
       "      <td>ZFZUA</td>\n",
       "    </tr>\n",
       "    <tr>\n",
       "      <th>...</th>\n",
       "      <td>...</td>\n",
       "      <td>...</td>\n",
       "      <td>...</td>\n",
       "      <td>...</td>\n",
       "      <td>...</td>\n",
       "      <td>...</td>\n",
       "      <td>...</td>\n",
       "      <td>...</td>\n",
       "    </tr>\n",
       "    <tr>\n",
       "      <th>24577</th>\n",
       "      <td>899</td>\n",
       "      <td>Andhra Pradesh</td>\n",
       "      <td>8</td>\n",
       "      <td>0.00</td>\n",
       "      <td>Chittoor</td>\n",
       "      <td>FEMI</td>\n",
       "      <td>7192</td>\n",
       "      <td>EAX5C</td>\n",
       "    </tr>\n",
       "    <tr>\n",
       "      <th>24578</th>\n",
       "      <td>2699</td>\n",
       "      <td>Andhra Pradesh</td>\n",
       "      <td>8</td>\n",
       "      <td>0.00</td>\n",
       "      <td>Krishna</td>\n",
       "      <td>FEMI</td>\n",
       "      <td>21592</td>\n",
       "      <td>5MCE9</td>\n",
       "    </tr>\n",
       "    <tr>\n",
       "      <th>24579</th>\n",
       "      <td>1540</td>\n",
       "      <td>Andhra Pradesh</td>\n",
       "      <td>8</td>\n",
       "      <td>0.00</td>\n",
       "      <td>Krishna</td>\n",
       "      <td>FEMI</td>\n",
       "      <td>12320</td>\n",
       "      <td>9HO4Q</td>\n",
       "    </tr>\n",
       "    <tr>\n",
       "      <th>24580</th>\n",
       "      <td>824</td>\n",
       "      <td>Andhra Pradesh</td>\n",
       "      <td>8</td>\n",
       "      <td>0.00</td>\n",
       "      <td>Guntur</td>\n",
       "      <td>FEMI</td>\n",
       "      <td>6592</td>\n",
       "      <td>3VV72</td>\n",
       "    </tr>\n",
       "    <tr>\n",
       "      <th>24581</th>\n",
       "      <td>2254</td>\n",
       "      <td>Andhra Pradesh</td>\n",
       "      <td>11</td>\n",
       "      <td>0.00</td>\n",
       "      <td>Kurnool</td>\n",
       "      <td>FEMI</td>\n",
       "      <td>24794</td>\n",
       "      <td>18XBC</td>\n",
       "    </tr>\n",
       "  </tbody>\n",
       "</table>\n",
       "<p>24582 rows × 8 columns</p>\n",
       "</div>"
      ],
      "text/plain": [
       "       Amount Pending           State  Tenure  Interest Rate       City  \\\n",
       "0                 963       Karnataka      11           7.69  Bangalore   \n",
       "1                1194       Karnataka      11           6.16  Bangalore   \n",
       "2                1807       Karnataka      14           4.24     Hassan   \n",
       "3                2451       Karnataka      10           4.70  Bangalore   \n",
       "4                2611       Karnataka      10           4.41     Mysore   \n",
       "...               ...             ...     ...            ...        ...   \n",
       "24577             899  Andhra Pradesh       8           0.00   Chittoor   \n",
       "24578            2699  Andhra Pradesh       8           0.00    Krishna   \n",
       "24579            1540  Andhra Pradesh       8           0.00    Krishna   \n",
       "24580             824  Andhra Pradesh       8           0.00     Guntur   \n",
       "24581            2254  Andhra Pradesh      11           0.00    Kurnool   \n",
       "\n",
       "      Bounce String  Disbursed Amount Loan Number  \n",
       "0               SSS             10197       JZ6FS  \n",
       "1               SSB             12738       RDIOY  \n",
       "2               BBS             24640       WNW4L  \n",
       "3               SSS             23990       6LBJS  \n",
       "4               SSB             25590       ZFZUA  \n",
       "...             ...               ...         ...  \n",
       "24577          FEMI              7192       EAX5C  \n",
       "24578          FEMI             21592       5MCE9  \n",
       "24579          FEMI             12320       9HO4Q  \n",
       "24580          FEMI              6592       3VV72  \n",
       "24581          FEMI             24794       18XBC  \n",
       "\n",
       "[24582 rows x 8 columns]"
      ]
     },
     "execution_count": 3,
     "metadata": {},
     "output_type": "execute_result"
    }
   ],
   "source": [
    "df"
   ]
  },
  {
   "cell_type": "code",
   "execution_count": 4,
   "id": "44720538",
   "metadata": {},
   "outputs": [
    {
     "data": {
      "text/plain": [
       "<bound method DataFrame.info of        Amount Pending           State  Tenure  Interest Rate       City  \\\n",
       "0                 963       Karnataka      11           7.69  Bangalore   \n",
       "1                1194       Karnataka      11           6.16  Bangalore   \n",
       "2                1807       Karnataka      14           4.24     Hassan   \n",
       "3                2451       Karnataka      10           4.70  Bangalore   \n",
       "4                2611       Karnataka      10           4.41     Mysore   \n",
       "...               ...             ...     ...            ...        ...   \n",
       "24577             899  Andhra Pradesh       8           0.00   Chittoor   \n",
       "24578            2699  Andhra Pradesh       8           0.00    Krishna   \n",
       "24579            1540  Andhra Pradesh       8           0.00    Krishna   \n",
       "24580             824  Andhra Pradesh       8           0.00     Guntur   \n",
       "24581            2254  Andhra Pradesh      11           0.00    Kurnool   \n",
       "\n",
       "      Bounce String  Disbursed Amount Loan Number  \n",
       "0               SSS             10197       JZ6FS  \n",
       "1               SSB             12738       RDIOY  \n",
       "2               BBS             24640       WNW4L  \n",
       "3               SSS             23990       6LBJS  \n",
       "4               SSB             25590       ZFZUA  \n",
       "...             ...               ...         ...  \n",
       "24577          FEMI              7192       EAX5C  \n",
       "24578          FEMI             21592       5MCE9  \n",
       "24579          FEMI             12320       9HO4Q  \n",
       "24580          FEMI              6592       3VV72  \n",
       "24581          FEMI             24794       18XBC  \n",
       "\n",
       "[24582 rows x 8 columns]>"
      ]
     },
     "execution_count": 4,
     "metadata": {},
     "output_type": "execute_result"
    }
   ],
   "source": [
    "df.info"
   ]
  },
  {
   "cell_type": "code",
   "execution_count": 5,
   "id": "0708e204",
   "metadata": {},
   "outputs": [
    {
     "data": {
      "text/plain": [
       "Amount Pending        int64\n",
       "State                object\n",
       "Tenure                int64\n",
       "Interest Rate       float64\n",
       "City                 object\n",
       "Bounce String        object\n",
       "Disbursed Amount      int64\n",
       "Loan Number          object\n",
       "dtype: object"
      ]
     },
     "execution_count": 5,
     "metadata": {},
     "output_type": "execute_result"
    }
   ],
   "source": [
    "df.dtypes"
   ]
  },
  {
   "cell_type": "code",
   "execution_count": 6,
   "id": "0017541b",
   "metadata": {},
   "outputs": [
    {
     "data": {
      "text/plain": [
       "Amount Pending       1391\n",
       "State                   7\n",
       "Tenure                  9\n",
       "Interest Rate         327\n",
       "City                  186\n",
       "Bounce String         413\n",
       "Disbursed Amount     1476\n",
       "Loan Number         24579\n",
       "dtype: int64"
      ]
     },
     "execution_count": 6,
     "metadata": {},
     "output_type": "execute_result"
    }
   ],
   "source": [
    "df.nunique()"
   ]
  },
  {
   "cell_type": "code",
   "execution_count": 7,
   "id": "9e446de7",
   "metadata": {},
   "outputs": [
    {
     "data": {
      "text/plain": [
       "0        False\n",
       "1        False\n",
       "2        False\n",
       "3        False\n",
       "4        False\n",
       "         ...  \n",
       "24577    False\n",
       "24578    False\n",
       "24579    False\n",
       "24580    False\n",
       "24581    False\n",
       "Length: 24582, dtype: bool"
      ]
     },
     "execution_count": 7,
     "metadata": {},
     "output_type": "execute_result"
    }
   ],
   "source": [
    "df.duplicated()"
   ]
  },
  {
   "cell_type": "code",
   "execution_count": 8,
   "id": "e08959c4",
   "metadata": {},
   "outputs": [
    {
     "data": {
      "text/html": [
       "<div>\n",
       "<style scoped>\n",
       "    .dataframe tbody tr th:only-of-type {\n",
       "        vertical-align: middle;\n",
       "    }\n",
       "\n",
       "    .dataframe tbody tr th {\n",
       "        vertical-align: top;\n",
       "    }\n",
       "\n",
       "    .dataframe thead th {\n",
       "        text-align: right;\n",
       "    }\n",
       "</style>\n",
       "<table border=\"1\" class=\"dataframe\">\n",
       "  <thead>\n",
       "    <tr style=\"text-align: right;\">\n",
       "      <th></th>\n",
       "      <th>Amount Pending</th>\n",
       "      <th>State</th>\n",
       "      <th>Tenure</th>\n",
       "      <th>Interest Rate</th>\n",
       "      <th>City</th>\n",
       "      <th>Bounce String</th>\n",
       "      <th>Disbursed Amount</th>\n",
       "      <th>Loan Number</th>\n",
       "    </tr>\n",
       "  </thead>\n",
       "  <tbody>\n",
       "    <tr>\n",
       "      <th>0</th>\n",
       "      <td>False</td>\n",
       "      <td>False</td>\n",
       "      <td>False</td>\n",
       "      <td>False</td>\n",
       "      <td>False</td>\n",
       "      <td>False</td>\n",
       "      <td>False</td>\n",
       "      <td>False</td>\n",
       "    </tr>\n",
       "    <tr>\n",
       "      <th>1</th>\n",
       "      <td>False</td>\n",
       "      <td>False</td>\n",
       "      <td>False</td>\n",
       "      <td>False</td>\n",
       "      <td>False</td>\n",
       "      <td>False</td>\n",
       "      <td>False</td>\n",
       "      <td>False</td>\n",
       "    </tr>\n",
       "    <tr>\n",
       "      <th>2</th>\n",
       "      <td>False</td>\n",
       "      <td>False</td>\n",
       "      <td>False</td>\n",
       "      <td>False</td>\n",
       "      <td>False</td>\n",
       "      <td>False</td>\n",
       "      <td>False</td>\n",
       "      <td>False</td>\n",
       "    </tr>\n",
       "    <tr>\n",
       "      <th>3</th>\n",
       "      <td>False</td>\n",
       "      <td>False</td>\n",
       "      <td>False</td>\n",
       "      <td>False</td>\n",
       "      <td>False</td>\n",
       "      <td>False</td>\n",
       "      <td>False</td>\n",
       "      <td>False</td>\n",
       "    </tr>\n",
       "    <tr>\n",
       "      <th>4</th>\n",
       "      <td>False</td>\n",
       "      <td>False</td>\n",
       "      <td>False</td>\n",
       "      <td>False</td>\n",
       "      <td>False</td>\n",
       "      <td>False</td>\n",
       "      <td>False</td>\n",
       "      <td>False</td>\n",
       "    </tr>\n",
       "    <tr>\n",
       "      <th>...</th>\n",
       "      <td>...</td>\n",
       "      <td>...</td>\n",
       "      <td>...</td>\n",
       "      <td>...</td>\n",
       "      <td>...</td>\n",
       "      <td>...</td>\n",
       "      <td>...</td>\n",
       "      <td>...</td>\n",
       "    </tr>\n",
       "    <tr>\n",
       "      <th>24577</th>\n",
       "      <td>False</td>\n",
       "      <td>False</td>\n",
       "      <td>False</td>\n",
       "      <td>False</td>\n",
       "      <td>False</td>\n",
       "      <td>False</td>\n",
       "      <td>False</td>\n",
       "      <td>False</td>\n",
       "    </tr>\n",
       "    <tr>\n",
       "      <th>24578</th>\n",
       "      <td>False</td>\n",
       "      <td>False</td>\n",
       "      <td>False</td>\n",
       "      <td>False</td>\n",
       "      <td>False</td>\n",
       "      <td>False</td>\n",
       "      <td>False</td>\n",
       "      <td>False</td>\n",
       "    </tr>\n",
       "    <tr>\n",
       "      <th>24579</th>\n",
       "      <td>False</td>\n",
       "      <td>False</td>\n",
       "      <td>False</td>\n",
       "      <td>False</td>\n",
       "      <td>False</td>\n",
       "      <td>False</td>\n",
       "      <td>False</td>\n",
       "      <td>False</td>\n",
       "    </tr>\n",
       "    <tr>\n",
       "      <th>24580</th>\n",
       "      <td>False</td>\n",
       "      <td>False</td>\n",
       "      <td>False</td>\n",
       "      <td>False</td>\n",
       "      <td>False</td>\n",
       "      <td>False</td>\n",
       "      <td>False</td>\n",
       "      <td>False</td>\n",
       "    </tr>\n",
       "    <tr>\n",
       "      <th>24581</th>\n",
       "      <td>False</td>\n",
       "      <td>False</td>\n",
       "      <td>False</td>\n",
       "      <td>False</td>\n",
       "      <td>False</td>\n",
       "      <td>False</td>\n",
       "      <td>False</td>\n",
       "      <td>False</td>\n",
       "    </tr>\n",
       "  </tbody>\n",
       "</table>\n",
       "<p>24582 rows × 8 columns</p>\n",
       "</div>"
      ],
      "text/plain": [
       "       Amount Pending  State  Tenure  Interest Rate   City  Bounce String  \\\n",
       "0               False  False   False          False  False          False   \n",
       "1               False  False   False          False  False          False   \n",
       "2               False  False   False          False  False          False   \n",
       "3               False  False   False          False  False          False   \n",
       "4               False  False   False          False  False          False   \n",
       "...               ...    ...     ...            ...    ...            ...   \n",
       "24577           False  False   False          False  False          False   \n",
       "24578           False  False   False          False  False          False   \n",
       "24579           False  False   False          False  False          False   \n",
       "24580           False  False   False          False  False          False   \n",
       "24581           False  False   False          False  False          False   \n",
       "\n",
       "       Disbursed Amount  Loan Number  \n",
       "0                 False        False  \n",
       "1                 False        False  \n",
       "2                 False        False  \n",
       "3                 False        False  \n",
       "4                 False        False  \n",
       "...                 ...          ...  \n",
       "24577             False        False  \n",
       "24578             False        False  \n",
       "24579             False        False  \n",
       "24580             False        False  \n",
       "24581             False        False  \n",
       "\n",
       "[24582 rows x 8 columns]"
      ]
     },
     "execution_count": 8,
     "metadata": {},
     "output_type": "execute_result"
    }
   ],
   "source": [
    "df.isnull()"
   ]
  },
  {
   "cell_type": "markdown",
   "id": "10772d5c",
   "metadata": {},
   "source": [
    "### Calculate the risk labels for all the borrowers.\n",
    "* Unknown risk : New customers\n",
    "\n",
    "* Low risk : Customers who have not bounced in the last 6 months\n",
    "\n",
    "* Medium Risk : These are customers who have bounced at less than twice in the last 6 months - The bounce should not have occurred in the last month\n",
    "\n",
    "* High risk : every other customer"
   ]
  },
  {
   "cell_type": "code",
   "execution_count": 9,
   "id": "b314b660",
   "metadata": {
    "scrolled": true
   },
   "outputs": [
    {
     "data": {
      "text/plain": [
       "array(['SSS', 'SSB', 'BBS', 'SBB', 'BB', 'SS', 'BS', 'SB', 'S', 'B',\n",
       "       'FEMI', 'LSSBBS', 'LSSSSS', 'LSBSSS', 'LBSSSS', 'BSSBBB', 'LSSBSB',\n",
       "       'LBBSBB', 'LSSBSS', 'LSSSBB', 'LSBSBS', 'LBBBBB', 'LBSSBS',\n",
       "       'LBBSSB', 'LSBBBS', 'LSBBSS', 'LSSSBS', 'LSHSSB', 'LBSBBS',\n",
       "       'SSSSSB', 'SSSBSB', 'SSSSS', 'SBBBB', 'BBBSS', 'BBBBS', 'BBSSS',\n",
       "       'SBSSS', 'BSSBB', 'SSBBS', 'BSSSB', 'SSSBS', 'BSSBS', 'SSSSB',\n",
       "       'SHSSS', 'SSSBB', 'BSSSS', 'SSBSS', 'BBSB', 'BSBS', 'SSSS', 'BSSS',\n",
       "       'SBBS', 'SSBS', 'SBBB', 'SSSB', 'SBSB', 'HBBS', 'SBSS', 'SBS',\n",
       "       'BBB', 'LBBBSS', 'SSBSBB', 'LSSSSB', 'SSBSSB', 'SBBBS', 'SBSSB',\n",
       "       'BSBBS', 'SBBSB', 'BSBBB', 'BBBSB', 'SBSBS', 'BSSB', 'BBBB',\n",
       "       'HSSS', 'BBBS', 'LBSSSB', 'LSBBBB', 'BSBSB', 'LBBSSS', 'BBBBB',\n",
       "       'BSBSS', 'BSBB', 'BBSS', 'BHSBS', 'SSBB', 'SSSSSSSB', 'LSSSSSSS',\n",
       "       'HHLSHSSS', 'LLLSSSSS', 'LHLSSSSS', 'LBBBSSSB', 'BSSSSSBS',\n",
       "       'LLLBBSSB', 'LHSSSSSS', 'LLLSBBSS', 'LSSBBBBB', 'SSSSSSSS',\n",
       "       'LLSSSSS', 'LSSSSSS', 'LLBBBBB', 'LLSSSBS', 'LLLBBLS', 'LLSBSSS',\n",
       "       'LLBBBBS', 'LLLBBLB', 'SSSSSSS', 'SSBSSBS', 'LLBSSBS', 'LLSBBBB',\n",
       "       'LLSSBSS', 'LLBSSSS', 'LLBBBSB', 'LLSBSBB', 'LLSSSSB', 'LLSBSSB',\n",
       "       'BSSSSBS', 'LLLBSSS', 'LLSHSSS', 'LSSSSSB', 'LLSBBBS', 'SBSBBSB',\n",
       "       'LLSSBSB', 'SBSSSSS', 'LLSSSBB', 'LLSSBBB', 'SSBSSSS', 'LLSSBBS',\n",
       "       'LLLBBBB', 'SSSSSBS', 'SSBSSBB', 'LLBSBBS', 'SLSHSSS', 'LLBSSSB',\n",
       "       'LLSBBSB', 'SSSBSSS', 'SSSBSBS', 'LLBSBBB', 'BSSSSSS', 'BBBBBBB',\n",
       "       'SSSSBSS', 'HBBSSSB', 'LLSBBSS', 'LLSBSBS', 'LLBBSBS', 'HBBSSSS',\n",
       "       'HBBBBBB', 'BBBSSSB', 'HLSHSSS', 'LLBSSBB', 'LLBBSSS', 'BBBSBBB',\n",
       "       'BBSBBSS', 'SLBSSSS', 'BBBHSSS', 'LLBSBSB', 'LLBBSSB', 'BLSHSBS',\n",
       "       'SSBSBSS', 'LLBSBSS', 'BBLBBBB', 'SBBBBBB', 'HBBBBSS', 'SBBBBSS',\n",
       "       'BBBBSSB', 'SSSBSSB', 'BBSBBBS', 'LLLSSSS', 'HLBSSSS', 'HBSBSBB',\n",
       "       'LLSSBLS', 'HLSHSBS', 'SBBSSSS', 'LBBBSB', 'LSHSSS', 'LBBBLB',\n",
       "       'SSSSSS', 'BSSBSB', 'LBBBBS', 'LSSBBB', 'SSSSBS', 'LBHSSS',\n",
       "       'LBBBLS', 'LBSSBB', 'BSBBBS', 'SBBBBB', 'SSSBSS', 'SBSBSB',\n",
       "       'BSSSSB', 'BBBBBB', 'SBSSSB', 'BBBSBB', 'BBSBSS', 'LBSBBB',\n",
       "       'LSBSSB', 'LLSBBB', 'LSHBSS', 'SBSSBB', 'SSSSBB', 'SBBBBS',\n",
       "       'LSBBSB', 'LBSBSS', 'SBBSSS', 'LBSBSB', 'LBBSBS', 'SSBBBS',\n",
       "       'BBHBBS', 'BBBBBS', 'SSBSSS', 'BSHSSS', 'BSSSSS', 'LSHBBB',\n",
       "       'SSSBBS', 'BBBBSB', 'SSBBSS', 'BBBSBS', 'BBBSSS', 'LSBSBB',\n",
       "       'BBSSB', 'SSBSB', 'BBSBS', 'SSBBB', 'SHSBS', 'SBBSS', 'SHSSB',\n",
       "       'SBSBB', 'BHSSS', 'BBSBB', 'SSBLS', 'SBLS', 'BBLS', 'HSSB', 'BLS',\n",
       "       'HSSSSSSSS', 'SSBLSSBSS', 'LLLLSSBBB', 'SSSSSSSSS', 'LLLLBBBBS',\n",
       "       'LLLLSSSBB', 'BBSSSSSS', 'LLLSSBSS', 'LLLBSBBS', 'SBBBBSSS',\n",
       "       'SSSSBBSS', 'HBBSHBBS', 'BBSSBBBS', 'BBBBBBBB', 'LLLBBBBB',\n",
       "       'LLLBBBSB', 'SSBBSSSS', 'LSBSSSSS', 'LLLSBBBS', 'LSSBSSSS',\n",
       "       'LSLSHSSS', 'LHLBSSBS', 'LBBBSBSS', 'LLLLBBBB', 'LLLBBBSS',\n",
       "       'LLLSSSBB', 'LBLBSSBS', 'LHBSSSSB', 'BSSSSSSS', 'SSBSSSSS',\n",
       "       'SHSSSSSS', 'BBBBSSSB', 'SBBLBBBB', 'LBBBSBBS', 'SBBSSSSS',\n",
       "       'SSSSSSBS', 'BLBSBBB', 'BBSSSSS', 'BBBBBSB', 'HBSHSSS', 'LLSBBLB',\n",
       "       'HSSSSSS', 'SSSSSSB', 'LLLBBBS', 'LLBBBSS', 'BBSSBBB', 'HBBHSSS',\n",
       "       'BBSBSSS', 'SSSBBBB', 'HLBSSSB', 'LLLBSBB', 'BBBBBBS', 'BSBSBSS',\n",
       "       'SBSBSSS', 'SSBBSBS', 'LLBBSBB', 'SBBBSBB', 'HBBSBBS', 'SSSSSBB',\n",
       "       'SLSSSSS', 'SBBSSBS', 'SBSSBBB', 'BBBSBSS', 'BBBSBBS', 'BBBBSBS',\n",
       "       'BLSSSBS', 'SSSSBBS', 'BSSBBBB', 'BBBBSBB', 'LBSBBBB', 'BSSSBSS',\n",
       "       'HLSSSSS', 'SSBSBBS', 'SBBHSSB', 'LSBSSSB', 'BSBBSBS', 'BBBBSSS',\n",
       "       'BSBBSBB', 'BLBSSBS', 'SSSSBSB', 'BSBBBBB', 'BBBSSBS', 'HLSSBSS',\n",
       "       'SBBSSSB', 'HLBHSSS', 'BLBSSSS', 'SSSSBBB', 'BLSBBBB', 'BBBSSSS',\n",
       "       'BLBBSSS', 'SSBBSB', 'SBHSSS', 'BBBSSB', 'SBSSSS', 'SBSBBS',\n",
       "       'LLBSBS', 'SSHSSS', 'LLBBBS', 'BLBSSS', 'BBSBBS', 'BBSSSB',\n",
       "       'BBSSSS', 'SBSBBB', 'BBSBBB', 'SBHSSB', 'BBHBBB', 'LBHSSB',\n",
       "       'SSBBBB', 'LLBBBB', 'BBSSBS', 'LSBBLB', 'SBBSSB', 'BSSSBB',\n",
       "       'LSBBLS', 'BHSSB', 'SSBLB', 'SHBSS', 'SBBLS', 'HBSS', 'HSBS',\n",
       "       'LLLLLSSSSS', 'LSHSSSSSSS', 'SSSSSSSSSS', 'SBHHLSHSSS',\n",
       "       'BBHHBBBBBB', 'LLLLSSSSS', 'HHHLSSSSS', 'SSSSSSSBB', 'BSSSBSSSB',\n",
       "       'SSBSBBBB', 'LLLBSSSS', 'LHLSHSSS', 'LHBSSSSS', 'LHBSBSBB',\n",
       "       'LSSSSSBS', 'LHLBSSSS', 'HLBBBBB', 'LSSBSSS', 'SBSBBSS', 'SBBSSBB',\n",
       "       'HBSSSSS', 'BBBBBSS', 'SSBSSSB', 'BSSBSBS', 'HLSHSSB', 'SBSBSBB',\n",
       "       'SSBSBSB', 'SBSHSSB', 'BLSSSSS', 'SSBSBBB', 'BBSBBBB', 'HLSHBSS',\n",
       "       'SSBBBBB', 'HBSSSSB', 'BSHSSB', 'BBBBSS', 'BBHSSB', 'SBSSBS',\n",
       "       'SBHBSS', 'BSBSSS', 'SHBBB', 'BHBBS', 'HSBB', 'LBHBSS', 'BBSSBB',\n",
       "       'SSSBBB', 'BBSBSB', 'LLBBSB', 'SHBBS', 'BSHSBB', 'LSHSBS', 'BHBBB',\n",
       "       'BHBSS', 'SHSBB', 'HBSB', 'BLBBBBB', 'BLSBSB', 'BBHSBS', 'BSBSSB',\n",
       "       'BLBSSB', 'BHSBB'], dtype=object)"
      ]
     },
     "execution_count": 9,
     "metadata": {},
     "output_type": "execute_result"
    }
   ],
   "source": [
    "df['Bounce String'].unique()"
   ]
  },
  {
   "cell_type": "code",
   "execution_count": 10,
   "id": "df9ed442",
   "metadata": {},
   "outputs": [
    {
     "name": "stdout",
     "output_type": "stream",
     "text": [
      "      Loan Number    Risk Label\n",
      "0           JZ6FS      Low risk\n",
      "1           RDIOY     High risk\n",
      "2           WNW4L     High risk\n",
      "3           6LBJS      Low risk\n",
      "4           ZFZUA     High risk\n",
      "...           ...           ...\n",
      "24577       EAX5C  Unknown risk\n",
      "24578       5MCE9  Unknown risk\n",
      "24579       9HO4Q  Unknown risk\n",
      "24580       3VV72  Unknown risk\n",
      "24581       18XBC  Unknown risk\n",
      "\n",
      "[24582 rows x 2 columns]\n"
     ]
    }
   ],
   "source": [
    "def risk_label(bounce_string):\n",
    "    if 'FEMI' in bounce_string:\n",
    "        return 'Unknown risk'\n",
    "    \n",
    "    bounce_count_last_6_months = bounce_string.count('B') + bounce_string.count('L')\n",
    "    last_month_bounce = bounce_string[-1]\n",
    "    \n",
    "    if bounce_count_last_6_months == 0:\n",
    "        return 'Low risk'\n",
    "    elif bounce_count_last_6_months < 2 and last_month_bounce in ('S', 'H'):\n",
    "        return 'Medium risk'\n",
    "    else:\n",
    "        return 'High risk'\n",
    "\n",
    "df['Risk Label'] = df['Bounce String'].apply(risk_label)\n",
    "\n",
    "print(df[['Loan Number', 'Risk Label']])\n"
   ]
  },
  {
   "cell_type": "code",
   "execution_count": 11,
   "id": "0b5729f0",
   "metadata": {},
   "outputs": [
    {
     "data": {
      "text/html": [
       "<div>\n",
       "<style scoped>\n",
       "    .dataframe tbody tr th:only-of-type {\n",
       "        vertical-align: middle;\n",
       "    }\n",
       "\n",
       "    .dataframe tbody tr th {\n",
       "        vertical-align: top;\n",
       "    }\n",
       "\n",
       "    .dataframe thead th {\n",
       "        text-align: right;\n",
       "    }\n",
       "</style>\n",
       "<table border=\"1\" class=\"dataframe\">\n",
       "  <thead>\n",
       "    <tr style=\"text-align: right;\">\n",
       "      <th></th>\n",
       "      <th>Amount Pending</th>\n",
       "      <th>State</th>\n",
       "      <th>Tenure</th>\n",
       "      <th>Interest Rate</th>\n",
       "      <th>City</th>\n",
       "      <th>Bounce String</th>\n",
       "      <th>Disbursed Amount</th>\n",
       "      <th>Loan Number</th>\n",
       "      <th>Risk Label</th>\n",
       "    </tr>\n",
       "  </thead>\n",
       "  <tbody>\n",
       "    <tr>\n",
       "      <th>0</th>\n",
       "      <td>963</td>\n",
       "      <td>Karnataka</td>\n",
       "      <td>11</td>\n",
       "      <td>7.69</td>\n",
       "      <td>Bangalore</td>\n",
       "      <td>SSS</td>\n",
       "      <td>10197</td>\n",
       "      <td>JZ6FS</td>\n",
       "      <td>Low risk</td>\n",
       "    </tr>\n",
       "    <tr>\n",
       "      <th>1</th>\n",
       "      <td>1194</td>\n",
       "      <td>Karnataka</td>\n",
       "      <td>11</td>\n",
       "      <td>6.16</td>\n",
       "      <td>Bangalore</td>\n",
       "      <td>SSB</td>\n",
       "      <td>12738</td>\n",
       "      <td>RDIOY</td>\n",
       "      <td>High risk</td>\n",
       "    </tr>\n",
       "    <tr>\n",
       "      <th>2</th>\n",
       "      <td>1807</td>\n",
       "      <td>Karnataka</td>\n",
       "      <td>14</td>\n",
       "      <td>4.24</td>\n",
       "      <td>Hassan</td>\n",
       "      <td>BBS</td>\n",
       "      <td>24640</td>\n",
       "      <td>WNW4L</td>\n",
       "      <td>High risk</td>\n",
       "    </tr>\n",
       "    <tr>\n",
       "      <th>3</th>\n",
       "      <td>2451</td>\n",
       "      <td>Karnataka</td>\n",
       "      <td>10</td>\n",
       "      <td>4.70</td>\n",
       "      <td>Bangalore</td>\n",
       "      <td>SSS</td>\n",
       "      <td>23990</td>\n",
       "      <td>6LBJS</td>\n",
       "      <td>Low risk</td>\n",
       "    </tr>\n",
       "    <tr>\n",
       "      <th>4</th>\n",
       "      <td>2611</td>\n",
       "      <td>Karnataka</td>\n",
       "      <td>10</td>\n",
       "      <td>4.41</td>\n",
       "      <td>Mysore</td>\n",
       "      <td>SSB</td>\n",
       "      <td>25590</td>\n",
       "      <td>ZFZUA</td>\n",
       "      <td>High risk</td>\n",
       "    </tr>\n",
       "  </tbody>\n",
       "</table>\n",
       "</div>"
      ],
      "text/plain": [
       "   Amount Pending      State  Tenure  Interest Rate       City Bounce String  \\\n",
       "0             963  Karnataka      11           7.69  Bangalore           SSS   \n",
       "1            1194  Karnataka      11           6.16  Bangalore           SSB   \n",
       "2            1807  Karnataka      14           4.24     Hassan           BBS   \n",
       "3            2451  Karnataka      10           4.70  Bangalore           SSS   \n",
       "4            2611  Karnataka      10           4.41     Mysore           SSB   \n",
       "\n",
       "   Disbursed Amount Loan Number Risk Label  \n",
       "0             10197       JZ6FS   Low risk  \n",
       "1             12738       RDIOY  High risk  \n",
       "2             24640       WNW4L  High risk  \n",
       "3             23990       6LBJS   Low risk  \n",
       "4             25590       ZFZUA  High risk  "
      ]
     },
     "execution_count": 11,
     "metadata": {},
     "output_type": "execute_result"
    }
   ],
   "source": [
    "df.head()"
   ]
  },
  {
   "cell_type": "markdown",
   "id": "d758e92b",
   "metadata": {},
   "source": [
    "### label all customers based on where they are in their tenure\n",
    "* Early tenure : Customers who are in the book for 3 months\n",
    "* Late tenure : Customers who are 3 months away from closing the loan\n",
    "* Mid tenure : Everyone else"
   ]
  },
  {
   "cell_type": "code",
   "execution_count": 12,
   "id": "7536cf29",
   "metadata": {},
   "outputs": [
    {
     "name": "stdout",
     "output_type": "stream",
     "text": [
      "       Amount Pending           State  Tenure  Interest Rate       City  \\\n",
      "0                 963       Karnataka      11           7.69  Bangalore   \n",
      "1                1194       Karnataka      11           6.16  Bangalore   \n",
      "2                1807       Karnataka      14           4.24     Hassan   \n",
      "3                2451       Karnataka      10           4.70  Bangalore   \n",
      "4                2611       Karnataka      10           4.41     Mysore   \n",
      "...               ...             ...     ...            ...        ...   \n",
      "24577             899  Andhra Pradesh       8           0.00   Chittoor   \n",
      "24578            2699  Andhra Pradesh       8           0.00    Krishna   \n",
      "24579            1540  Andhra Pradesh       8           0.00    Krishna   \n",
      "24580             824  Andhra Pradesh       8           0.00     Guntur   \n",
      "24581            2254  Andhra Pradesh      11           0.00    Kurnool   \n",
      "\n",
      "      Bounce String  Disbursed Amount Loan Number    Risk Label  Tenure Label  \n",
      "0               SSS             10197       JZ6FS      Low risk  Early Tenure  \n",
      "1               SSB             12738       RDIOY     High risk  Early Tenure  \n",
      "2               BBS             24640       WNW4L     High risk  Early Tenure  \n",
      "3               SSS             23990       6LBJS      Low risk  Early Tenure  \n",
      "4               SSB             25590       ZFZUA     High risk  Early Tenure  \n",
      "...             ...               ...         ...           ...           ...  \n",
      "24577          FEMI              7192       EAX5C  Unknown risk    Mid Tenure  \n",
      "24578          FEMI             21592       5MCE9  Unknown risk    Mid Tenure  \n",
      "24579          FEMI             12320       9HO4Q  Unknown risk    Mid Tenure  \n",
      "24580          FEMI              6592       3VV72  Unknown risk    Mid Tenure  \n",
      "24581          FEMI             24794       18XBC  Unknown risk    Mid Tenure  \n",
      "\n",
      "[24582 rows x 10 columns]\n"
     ]
    }
   ],
   "source": [
    "def calculate_tenure_progress(row):\n",
    "   \n",
    "    # Calculate months passed based on bounce string length\n",
    "    months_passed = len(row['Bounce String']) \n",
    "    \n",
    "    # Calculate progress as a proportion of total tenure\n",
    "    progress = months_passed / row['Tenure']\n",
    "    \n",
    "    # Assigning labels based on tenure progress\n",
    "    if progress <= 0.33:\n",
    "        return 'Early Tenure'\n",
    "    elif progress <= 0.66:\n",
    "        return 'Mid Tenure'\n",
    "    else:\n",
    "        return 'Late Tenure'\n",
    "\n",
    "# Apply the function row-wise to calculate tenure label and create a new column\n",
    "df['Tenure Label'] = df.apply(calculate_tenure_progress, axis=1)\n",
    "\n",
    "# Display the DataFrame to verify the results\n",
    "print(df)"
   ]
  },
  {
   "cell_type": "code",
   "execution_count": 13,
   "id": "9d66060c",
   "metadata": {},
   "outputs": [
    {
     "data": {
      "text/plain": [
       "array(['Early Tenure', 'Mid Tenure', 'Late Tenure'], dtype=object)"
      ]
     },
     "execution_count": 13,
     "metadata": {},
     "output_type": "execute_result"
    }
   ],
   "source": [
    "df['Tenure Label'].unique()"
   ]
  },
  {
   "cell_type": "markdown",
   "id": "361538af",
   "metadata": {},
   "source": [
    "### Segment borrowers based on ticket size\n",
    "* Distribute the data into 3 cohorts based on ticket size. This is to be done such that sum of amount pending in each cohort should be approximately equal. Apply the following labels on each borrower based on this logic:\n",
    "1. Low ticket size\n",
    "2. Medium ticket size\n",
    "3. High ticket size"
   ]
  },
  {
   "cell_type": "code",
   "execution_count": 14,
   "id": "85be9b15",
   "metadata": {},
   "outputs": [
    {
     "name": "stdout",
     "output_type": "stream",
     "text": [
      "       Amount Pending  Disbursed Amount      Ticket Label\n",
      "0                 963             10197   Low ticket size\n",
      "1                1194             12738   Low ticket size\n",
      "2                1807             24640   Low ticket size\n",
      "3                2451             23990   Low ticket size\n",
      "4                2611             25590   Low ticket size\n",
      "...               ...               ...               ...\n",
      "24577             899              7192  High ticket size\n",
      "24578            2699             21592  High ticket size\n",
      "24579            1540             12320  High ticket size\n",
      "24580             824              6592  High ticket size\n",
      "24581            2254             24794  High ticket size\n",
      "\n",
      "[24582 rows x 3 columns]\n"
     ]
    }
   ],
   "source": [
    "def segment_borrowers(ticket_sizes):\n",
    "   \n",
    "    # Sort the ticket sizes\n",
    "    sorted_ticket_sizes = sorted(ticket_sizes)\n",
    "    \n",
    "    # Calculate the size of each cohort\n",
    "    cohort_size = len(ticket_sizes) // 3\n",
    "    \n",
    "    # Initialize labels list\n",
    "    labels = []\n",
    "    \n",
    "    for i in range(len(ticket_sizes)):\n",
    "        if i < cohort_size:\n",
    "            labels.append('Low ticket size')\n",
    "        elif i < 2 * cohort_size:\n",
    "            labels.append('Medium ticket size')\n",
    "        else:\n",
    "            labels.append('High ticket size')\n",
    "    \n",
    "    return labels\n",
    "\n",
    "ticket_sizes = df['Disbursed Amount']  \n",
    "\n",
    "# Segment borrowers based on ticket size\n",
    "df['Ticket Label'] = segment_borrowers(ticket_sizes)\n",
    "\n",
    "print(df[['Amount Pending', 'Disbursed Amount', 'Ticket Label']])"
   ]
  },
  {
   "cell_type": "code",
   "execution_count": 15,
   "id": "b8807bfc",
   "metadata": {},
   "outputs": [
    {
     "data": {
      "text/html": [
       "<div>\n",
       "<style scoped>\n",
       "    .dataframe tbody tr th:only-of-type {\n",
       "        vertical-align: middle;\n",
       "    }\n",
       "\n",
       "    .dataframe tbody tr th {\n",
       "        vertical-align: top;\n",
       "    }\n",
       "\n",
       "    .dataframe thead th {\n",
       "        text-align: right;\n",
       "    }\n",
       "</style>\n",
       "<table border=\"1\" class=\"dataframe\">\n",
       "  <thead>\n",
       "    <tr style=\"text-align: right;\">\n",
       "      <th></th>\n",
       "      <th>Amount Pending</th>\n",
       "      <th>State</th>\n",
       "      <th>Tenure</th>\n",
       "      <th>Interest Rate</th>\n",
       "      <th>City</th>\n",
       "      <th>Bounce String</th>\n",
       "      <th>Disbursed Amount</th>\n",
       "      <th>Loan Number</th>\n",
       "      <th>Risk Label</th>\n",
       "      <th>Tenure Label</th>\n",
       "      <th>Ticket Label</th>\n",
       "    </tr>\n",
       "  </thead>\n",
       "  <tbody>\n",
       "    <tr>\n",
       "      <th>0</th>\n",
       "      <td>963</td>\n",
       "      <td>Karnataka</td>\n",
       "      <td>11</td>\n",
       "      <td>7.69</td>\n",
       "      <td>Bangalore</td>\n",
       "      <td>SSS</td>\n",
       "      <td>10197</td>\n",
       "      <td>JZ6FS</td>\n",
       "      <td>Low risk</td>\n",
       "      <td>Early Tenure</td>\n",
       "      <td>Low ticket size</td>\n",
       "    </tr>\n",
       "    <tr>\n",
       "      <th>1</th>\n",
       "      <td>1194</td>\n",
       "      <td>Karnataka</td>\n",
       "      <td>11</td>\n",
       "      <td>6.16</td>\n",
       "      <td>Bangalore</td>\n",
       "      <td>SSB</td>\n",
       "      <td>12738</td>\n",
       "      <td>RDIOY</td>\n",
       "      <td>High risk</td>\n",
       "      <td>Early Tenure</td>\n",
       "      <td>Low ticket size</td>\n",
       "    </tr>\n",
       "    <tr>\n",
       "      <th>2</th>\n",
       "      <td>1807</td>\n",
       "      <td>Karnataka</td>\n",
       "      <td>14</td>\n",
       "      <td>4.24</td>\n",
       "      <td>Hassan</td>\n",
       "      <td>BBS</td>\n",
       "      <td>24640</td>\n",
       "      <td>WNW4L</td>\n",
       "      <td>High risk</td>\n",
       "      <td>Early Tenure</td>\n",
       "      <td>Low ticket size</td>\n",
       "    </tr>\n",
       "    <tr>\n",
       "      <th>3</th>\n",
       "      <td>2451</td>\n",
       "      <td>Karnataka</td>\n",
       "      <td>10</td>\n",
       "      <td>4.70</td>\n",
       "      <td>Bangalore</td>\n",
       "      <td>SSS</td>\n",
       "      <td>23990</td>\n",
       "      <td>6LBJS</td>\n",
       "      <td>Low risk</td>\n",
       "      <td>Early Tenure</td>\n",
       "      <td>Low ticket size</td>\n",
       "    </tr>\n",
       "    <tr>\n",
       "      <th>4</th>\n",
       "      <td>2611</td>\n",
       "      <td>Karnataka</td>\n",
       "      <td>10</td>\n",
       "      <td>4.41</td>\n",
       "      <td>Mysore</td>\n",
       "      <td>SSB</td>\n",
       "      <td>25590</td>\n",
       "      <td>ZFZUA</td>\n",
       "      <td>High risk</td>\n",
       "      <td>Early Tenure</td>\n",
       "      <td>Low ticket size</td>\n",
       "    </tr>\n",
       "  </tbody>\n",
       "</table>\n",
       "</div>"
      ],
      "text/plain": [
       "   Amount Pending      State  Tenure  Interest Rate       City Bounce String  \\\n",
       "0             963  Karnataka      11           7.69  Bangalore           SSS   \n",
       "1            1194  Karnataka      11           6.16  Bangalore           SSB   \n",
       "2            1807  Karnataka      14           4.24     Hassan           BBS   \n",
       "3            2451  Karnataka      10           4.70  Bangalore           SSS   \n",
       "4            2611  Karnataka      10           4.41     Mysore           SSB   \n",
       "\n",
       "   Disbursed Amount Loan Number Risk Label  Tenure Label     Ticket Label  \n",
       "0             10197       JZ6FS   Low risk  Early Tenure  Low ticket size  \n",
       "1             12738       RDIOY  High risk  Early Tenure  Low ticket size  \n",
       "2             24640       WNW4L  High risk  Early Tenure  Low ticket size  \n",
       "3             23990       6LBJS   Low risk  Early Tenure  Low ticket size  \n",
       "4             25590       ZFZUA  High risk  Early Tenure  Low ticket size  "
      ]
     },
     "execution_count": 15,
     "metadata": {},
     "output_type": "execute_result"
    }
   ],
   "source": [
    "df.head()"
   ]
  },
  {
   "cell_type": "markdown",
   "id": "430d80f5",
   "metadata": {},
   "source": [
    "### Give channel spend recommendations\n",
    "* You are allowed to spend 3 kinds of resources to reduce the overall bounce\n",
    "\n",
    "1. Whatsapp bot: This is the cheapest medium - it will cost 5 rupees per borrower \n",
    "2. Voice bot: This is the mid-cost - it will cost 10 rupees per borrower\n",
    "3. Human calling: This is the costliest option - it will cost 50 rupees per borrower\n",
    "\n",
    "* Whatsapp bot will work well in the following scenarios\n",
    "\n",
    "1. Customers with great repayment behavior\n",
    "2. Customers with first EMIs\n",
    "3. Customers who have low EMIs\n",
    "\n",
    "* Voice bot will work well in the following scenarios \n",
    "\n",
    "1. Customer who know Hindi or English - Metropolitan areas have high probability of english speakers & english speakers have typically lower interest rates\n",
    "2. Customers who have had low bounce behaviour\n",
    "3. Customers with low or medium sized EMIs\n",
    "\n",
    "* Human calling will work on all scenarios but is the costliest option and you need to use this channel only where absolutely necessary\n",
    "\n",
    "Your job is to segment the borrowers into these 3 channels of spend category and minimise the overall spend while maximise on time repayment."
   ]
  },
  {
   "cell_type": "code",
   "execution_count": 16,
   "id": "3fd9453c",
   "metadata": {},
   "outputs": [],
   "source": [
    "def recommend_channel(row):\n",
    "    # Define conditions for when no action is necessary\n",
    "    high_risk_but_improving = row['Risk Label'] == 'High risk' and 'Improvement Indicator'  # Placeholder condition\n",
    "    ahead_of_schedule = 'Ahead of Schedule Indicator'  # Placeholder condition\n",
    "    high_engagement = 'High Engagement Indicator'  # Placeholder condition\n",
    "    very_low_or_high_loan_amount = row['Amount Pending'] < 1000 or row['Amount Pending'] > 100000  # Example values\n",
    "    excellent_repayment_history = 'Excellent Repayment History Indicator'  # Placeholder condition\n",
    "    \n",
    "    if high_risk_but_improving or ahead_of_schedule or high_engagement or very_low_or_high_loan_amount or excellent_repayment_history:\n",
    "        return 'NILL', 0\n",
    "    elif row['Risk Label'] == 'Low risk' or row['Bounce String'] == 'FEMI' or row['Amount Pending'] <= emi_thresholds['low']:\n",
    "        return 'WhatsApp Bot', 5\n",
    "    elif row['Interest Rate'] < 0.09 or row['Ticket Label'] == 'Low' or (row['Amount Pending'] > emi_thresholds['low'] and row['Amount Pending'] <= emi_thresholds['medium']):\n",
    "        return 'Voice Bot', 10\n",
    "    else:\n",
    "        return 'Human Calling', 50\n",
    "\n",
    "# Note: 'Improvement Indicator', 'Ahead of Schedule Indicator', 'High Engagement Indicator', and 'Excellent Repayment History Indicator' are placeholders. You need to define these based on your dataset's actual columns and values.\n",
    "\n",
    "# Apply the function to segment the customers\n",
    "df['Recommend Channel'], df['Cost'] = zip(*df.apply(recommend_channel, axis=1))\n"
   ]
  },
  {
   "cell_type": "code",
   "execution_count": 17,
   "id": "541798c3",
   "metadata": {},
   "outputs": [
    {
     "name": "stdout",
     "output_type": "stream",
     "text": [
      "Total Cost for WhatsApp Bot:  0\n",
      "Total Cost for Voice Bot:  0\n",
      "Total Cost for Human Calling:  0\n",
      "Total Cost for NILL:  0\n",
      "Overall Total Cost: 0\n",
      "       Amount Pending           State  Tenure  Interest Rate       City  \\\n",
      "0                 963       Karnataka      11           7.69  Bangalore   \n",
      "1                1194       Karnataka      11           6.16  Bangalore   \n",
      "2                1807       Karnataka      14           4.24     Hassan   \n",
      "3                2451       Karnataka      10           4.70  Bangalore   \n",
      "4                2611       Karnataka      10           4.41     Mysore   \n",
      "...               ...             ...     ...            ...        ...   \n",
      "24577             899  Andhra Pradesh       8           0.00   Chittoor   \n",
      "24578            2699  Andhra Pradesh       8           0.00    Krishna   \n",
      "24579            1540  Andhra Pradesh       8           0.00    Krishna   \n",
      "24580             824  Andhra Pradesh       8           0.00     Guntur   \n",
      "24581            2254  Andhra Pradesh      11           0.00    Kurnool   \n",
      "\n",
      "      Bounce String  Disbursed Amount Loan Number    Risk Label  Tenure Label  \\\n",
      "0               SSS             10197       JZ6FS      Low risk  Early Tenure   \n",
      "1               SSB             12738       RDIOY     High risk  Early Tenure   \n",
      "2               BBS             24640       WNW4L     High risk  Early Tenure   \n",
      "3               SSS             23990       6LBJS      Low risk  Early Tenure   \n",
      "4               SSB             25590       ZFZUA     High risk  Early Tenure   \n",
      "...             ...               ...         ...           ...           ...   \n",
      "24577          FEMI              7192       EAX5C  Unknown risk    Mid Tenure   \n",
      "24578          FEMI             21592       5MCE9  Unknown risk    Mid Tenure   \n",
      "24579          FEMI             12320       9HO4Q  Unknown risk    Mid Tenure   \n",
      "24580          FEMI              6592       3VV72  Unknown risk    Mid Tenure   \n",
      "24581          FEMI             24794       18XBC  Unknown risk    Mid Tenure   \n",
      "\n",
      "           Ticket Label Recommend Channel  Cost  \n",
      "0       Low ticket size              NILL     0  \n",
      "1       Low ticket size              NILL     0  \n",
      "2       Low ticket size              NILL     0  \n",
      "3       Low ticket size              NILL     0  \n",
      "4       Low ticket size              NILL     0  \n",
      "...                 ...               ...   ...  \n",
      "24577  High ticket size              NILL     0  \n",
      "24578  High ticket size              NILL     0  \n",
      "24579  High ticket size              NILL     0  \n",
      "24580  High ticket size              NILL     0  \n",
      "24581  High ticket size              NILL     0  \n",
      "\n",
      "[24582 rows x 13 columns]\n"
     ]
    }
   ],
   "source": [
    "# Adjusting the recommend_channel function to include a 'NILL' condition\n",
    "\n",
    "def recommend_channel(row):\n",
    "    # Condition for no recommendation needed\n",
    "    if 'S' in row['Bounce String'] and len(row['Bounce String']) > 5:  # Example for excellent repayment history\n",
    "        return 'NILL', 0\n",
    "    elif row['Risk Label'] == 'Low risk' or row['Bounce String'] == 'FEMI' or row['Amount Pending'] <= emi_thresholds['low']:\n",
    "        return 'WhatsApp Bot', 5\n",
    "    elif row['Interest Rate'] < 0.09 or row['Ticket Label'] == 'Low' or (row['Amount Pending'] > emi_thresholds['low'] and row['Amount Pending'] <= emi_thresholds['medium']):\n",
    "        return 'Voice Bot', 10\n",
    "    else:\n",
    "        return 'Human Calling', 50\n",
    "\n",
    "# Example condition for no action needed could be customers with very high risk or high EMIs where none of the interventions are considered effective\n",
    "# For the sake of an example, let's say customers with 'High risk' and 'Amount Pending' greater than the 'medium' threshold don't get any recommendation\n",
    "# Adjust the below line in the function above as your new first condition\n",
    "    if row['Risk Label'] == 'High risk' and row['Amount Pending'] > emi_thresholds['Mid Tenure']:  # Example condition\n",
    "\n",
    "# Apply the function to segment the customers\n",
    "        df['Recommend Channel'], df['Cost'] = zip(*df.apply(recommend_channel, axis=1))\n",
    "\n",
    "# Recalculate total costs\n",
    "total_cost_whatsapp = df[df['Recommend Channel'] == 'WhatsApp Bot']['Cost'].sum()\n",
    "total_cost_voice = df[df['Recommend Channel'] == 'Voice Bot']['Cost'].sum()\n",
    "total_cost_human_calling = df[df['Recommend Channel'] == 'Human Calling']['Cost'].sum()\n",
    "total_cost_nill = df[df['Recommend Channel'] == 'NILL']['Cost'].sum()  # Cost for NILL will be 0\n",
    "\n",
    "# Calculate total cost again\n",
    "total_cost = df['Cost'].sum()\n",
    "\n",
    "# Print separate total costs for each recommended channel and the NILL segment\n",
    "print(\"Total Cost for WhatsApp Bot: \", total_cost_whatsapp)\n",
    "print(\"Total Cost for Voice Bot: \", total_cost_voice)\n",
    "print(\"Total Cost for Human Calling: \", total_cost_human_calling)\n",
    "print(\"Total Cost for NILL: \", total_cost_nill)  # This should be 0\n",
    "print(\"Overall Total Cost:\", total_cost)\n",
    "\n",
    "print(df)"
   ]
  },
  {
   "cell_type": "code",
   "execution_count": 18,
   "id": "347a0fd1",
   "metadata": {},
   "outputs": [
    {
     "data": {
      "text/plain": [
       "array(['NILL'], dtype=object)"
      ]
     },
     "execution_count": 18,
     "metadata": {},
     "output_type": "execute_result"
    }
   ],
   "source": [
    "df['Recommend Channel'].unique()"
   ]
  },
  {
   "cell_type": "markdown",
   "id": "bd9893a3",
   "metadata": {},
   "source": [
    "### 1. summary of borrowers (with graphs) based on risk"
   ]
  },
  {
   "cell_type": "raw",
   "id": "6c18a830",
   "metadata": {},
   "source": [
    "Low Risk: These are borrowers who are good at paying back their loans on time. They rarely miss payments and have a good track record of repayment. We trust them to pay back what they owe.\n",
    "\n",
    "Medium Risk: These borrowers may have missed a couple of payments in the past, but not too many. They are not as reliable as low-risk borrowers, but they are not too risky either. We keep an eye on them to make sure they keep up with their payments.\n",
    "\n",
    "High Risk: These borrowers have a history of missing payments or struggling to pay back their loans. They are less reliable, and there is a higher chance they might not pay back what they owe. We need to be cautious with them and may need to follow up more closely to ensure they do not fall behind."
   ]
  },
  {
   "cell_type": "code",
   "execution_count": 19,
   "id": "7c3f904e",
   "metadata": {},
   "outputs": [
    {
     "name": "stdout",
     "output_type": "stream",
     "text": [
      "Low risk        13463\n",
      "High risk        5449\n",
      "Unknown risk     3222\n",
      "Medium risk      2448\n",
      "Name: Risk Label, dtype: int64\n"
     ]
    }
   ],
   "source": [
    "# Summary of borrowers by risk\n",
    "summary_by_risk = df['Risk Label'].value_counts()\n",
    "print(summary_by_risk)"
   ]
  },
  {
   "cell_type": "code",
   "execution_count": 20,
   "id": "c987bba8",
   "metadata": {},
   "outputs": [
    {
     "data": {
      "image/png": "[encoded data removed]",
      "text/plain": [
       "<Figure size 640x480 with 1 Axes>"
      ]
     },
     "metadata": {},
     "output_type": "display_data"
    }
   ],
   "source": [
    "summary_by_risk.plot(kind='bar', color=['green', 'blue', 'red', 'orange'])\n",
    "plt.title('Borrowers by Risk Category')\n",
    "plt.xlabel('Risk Category')\n",
    "plt.ylabel('Number of Borrowers')\n",
    "plt.xticks(rotation=45)\n",
    "plt.show()"
   ]
  },
  {
   "cell_type": "markdown",
   "id": "98437161",
   "metadata": {},
   "source": [
    "### 2. summary of borrowers (with graphs) based on ticket sizes"
   ]
  },
  {
   "cell_type": "raw",
   "id": "efd9abc3",
   "metadata": {},
   "source": [
    "Low Ticket Size: These borrowers have smaller loan amounts. They might be borrowing for smaller purchases or have lower income. They are less risky for us because their loans are smaller, so it is easier for them to pay back.\n",
    "\n",
    "Medium Ticket Size: These borrowers have medium-sized loan amounts. They might be borrowing for bigger purchases or have more stable incomes. They are somewhat risky because they have larger loans, but they are still manageable for most borrowers.\n",
    "\n",
    "High Ticket Size: These borrowers have larger loan amounts. They might be borrowing for major expenses like buying a house or starting a business. They are riskier because they have larger loans, so there has more at stake if they can not pay back on time."
   ]
  },
  {
   "cell_type": "code",
   "execution_count": 21,
   "id": "401ebe03",
   "metadata": {},
   "outputs": [
    {
     "name": "stdout",
     "output_type": "stream",
     "text": [
      "Low ticket size       8194\n",
      "Medium ticket size    8194\n",
      "High ticket size      8194\n",
      "Name: Ticket Label, dtype: int64\n"
     ]
    }
   ],
   "source": [
    "# Summarize the data\n",
    "summary = df['Ticket Label'].value_counts()\n",
    "\n",
    "print(summary)"
   ]
  },
  {
   "cell_type": "code",
   "execution_count": 22,
   "id": "b8f280d7",
   "metadata": {},
   "outputs": [
    {
     "data": {
      "image/png": "[encoded data removed]",
      "text/plain": [
       "<Figure size 640x480 with 1 Axes>"
      ]
     },
     "metadata": {},
     "output_type": "display_data"
    }
   ],
   "source": [
    "# Plotting\n",
    "summary.sort_index().plot(kind='bar', color=['skyblue', 'orange', 'lightgreen'])\n",
    "plt.title('Summary of Borrowers Based on Ticket Sizes')\n",
    "plt.xlabel('Ticket Size Category')\n",
    "plt.ylabel('Number of Borrowers')\n",
    "plt.xticks(rotation=0)  \n",
    "plt.show()"
   ]
  },
  {
   "cell_type": "markdown",
   "id": "f56239aa",
   "metadata": {},
   "source": [
    "### 3. Summary of borrowers (with graphs) based on tenure completion"
   ]
  },
  {
   "cell_type": "raw",
   "id": "c1cc76cb",
   "metadata": {},
   "source": [
    "Early Tenure: These borrowers are just starting out with their loans, within the first 3 months. They are at the beginning stages of repayment, so there is a long way to go before they finish paying off their loans.\n",
    "\n",
    "Mid Tenure: This group is in the middle of their loan terms. They have moved past the initial stage but still have a significant amount of time before they can fully repay their loans. They represent the majority of borrowers who are steadily working towards completing their payments.\n",
    "\n",
    "Late Tenure: Borrowers in this category are nearing the end of their loan terms, within 3 months of completing their repayments. They are almost across the finish line, with only a few payments left."
   ]
  },
  {
   "cell_type": "code",
   "execution_count": 23,
   "id": "8bf99d15",
   "metadata": {},
   "outputs": [
    {
     "name": "stdout",
     "output_type": "stream",
     "text": [
      "Mid Tenure      11352\n",
      "Early Tenure    10579\n",
      "Late Tenure      2651\n",
      "Name: Tenure Label, dtype: int64\n"
     ]
    }
   ],
   "source": [
    "# Summarize the data\n",
    "summary = df['Tenure Label'].value_counts()\n",
    "\n",
    "print(summary)"
   ]
  },
  {
   "cell_type": "code",
   "execution_count": 24,
   "id": "97340919",
   "metadata": {},
   "outputs": [
    {
     "data": {
      "image/png": "[encoded data removed]",
      "text/plain": [
       "<Figure size 640x480 with 1 Axes>"
      ]
     },
     "metadata": {},
     "output_type": "display_data"
    }
   ],
   "source": [
    "# Plotting\n",
    "summary.sort_index().plot(kind='bar', color=['skyblue', 'orange', 'lightgreen'])\n",
    "plt.title('Summary of Borrowers Based on Tenure Completion')\n",
    "plt.xlabel('Tenure Completion Status')\n",
    "plt.ylabel('Number of Borrowers')\n",
    "plt.xticks(rotation=0)  \n",
    "plt.show()"
   ]
  },
  {
   "cell_type": "markdown",
   "id": "969cc8be",
   "metadata": {},
   "source": [
    "### 4. Spend recommendation - you need to articulate on how you have minimised spend while keeping in mind high repayment rate"
   ]
  },
  {
   "cell_type": "raw",
   "id": "e1313208",
   "metadata": {},
   "source": [
    "1. Utilize Low-Cost Communication Channels:\n",
    "WhatsApp Bot: Utilize WhatsApp bot for customers with great repayment behavior, first EMIs, and low EMIs. This channel has the lowest cost per borrower and can effectively communicate with these segments.\n",
    "\n",
    "Voice Bot: Employ the voice bot for customers who know Hindi or English, have had low bounce behavior, and have low or medium-sized EMIs. While slightly more expensive than WhatsApp, it is still more cost-effective than human calling and can cater to a broader segment of borrowers efficiently.\n",
    "\n",
    "\n",
    "2. Strategic Use of Human Calling:\n",
    "Human Calling: Reserve human calling, the costliest option, for scenarios where it is absolutely necessary. This may include high-risk borrowers, complex queries, or situations requiring personalized assistance.\n",
    "By minimizing the use of human calling and leveraging automated channels like WhatsApp and voice bots for routine interactions, we can significantly reduce overall spend.\n",
    "\n",
    "\n",
    "3. Monitoring and Optimization:\n",
    "Continuously monitor the effectiveness of each communication channel in terms of repayment rates and customer satisfaction.\n",
    "Analyze borrower behavior and feedback to identify areas for improvement and optimization in communication strategies.\n",
    "Adjust resource allocation based on performance metrics to ensure the most cost-effective and impactful use of resources over time.\n",
    "\n",
    "\n",
    "4. Implement Data-Driven Decision Making:\n",
    "Use data analytics to segment borrowers effectively and tailor communication strategies to meet their specific needs.\n",
    "Leverage predictive modeling to anticipate borrower behavior and proactively address potential issues before they escalate.\n",
    "\n",
    "\n",
    "5. Focus on Customer Engagement and Education:\n",
    "Emphasize proactive communication to educate borrowers about repayment terms, options, and resources available to them.\n",
    "Foster a positive borrower experience by providing timely and relevant information through preferred communication channels.\n",
    "\n",
    "\n",
    "6. Compliance and Ethical Considerations:\n",
    "Ensure compliance with regulatory requirements and ethical standards in all communication practices.\n",
    "Respect borrower privacy and preferences, allowing them to opt-in or opt-out of communication channels as per their choice."
   ]
  },
  {
   "cell_type": "markdown",
   "id": "c4f6ea91",
   "metadata": {},
   "source": [
    "### 5. Any other interesting insights you have derived from the above data."
   ]
  },
  {
   "cell_type": "raw",
   "id": "2b9548b1",
   "metadata": {},
   "source": [
    "1.Best Communication Channels: We noticed that using WhatsApp for customers who are good at paying back, have just started their loan, or have small monthly payments is really cost-effective. This means we can save money by using a cheap way to remind people to pay without spending too much.\n",
    "\n",
    "2.Language Matters: Borrowers who speak Hindi or English tend to respond better to voice bots, especially in big cities. This suggests that picking the right language for reminders can help people understand and act on them better.\n",
    "\n",
    "3.Loan Details Affect Payment: People's behavior in paying back their loans can change depending on their loan's details, like how big the loan is or its interest rate. Understanding this can help us figure out the best way to remind each person to pay back their loan.\n",
    "\n",
    "4.Feedback Helps Us Improve: Listening to what borrowers say about how we talk to them can help us make our communication even better. If people don't like how we're reminding them, changing our approach could make them more likely to pay on time."
   ]
  }
 ],
 "metadata": {
  "kernelspec": {
   "display_name": "Python 3 (ipykernel)",
   "language": "python",
   "name": "python3"
  },
  "language_info": {
   "codemirror_mode": {
    "name": "ipython",
    "version": 3
   },
   "file_extension": ".py",
   "mimetype": "text/x-python",
   "name": "python",
   "nbconvert_exporter": "python",
   "pygments_lexer": "ipython3",
   "version": "3.10.9"
  }
 },
 "nbformat": 4,
 "nbformat_minor": 5
}
